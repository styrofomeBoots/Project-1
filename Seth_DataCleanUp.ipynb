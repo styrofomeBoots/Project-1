{
 "cells": [
  {
   "cell_type": "code",
   "execution_count": null,
   "metadata": {},
   "outputs": [],
   "source": [
    "# This is the code for originally creating the dataset from\n",
    "# 10 different CSVs.  All other code cleaning is in my \n",
    "# main data exploration notebook.\n",
    "\n",
    "# There are three code blocks here\n",
    "# Run one and then clear the kernal and run the next\n",
    "import pandas as pd\n",
    "\n",
    "# read CSVs into DataFrame\n",
    "df2005 = pd.read_csv(\"2005_data.csv\", low_memory=False)\n",
    "df2006 = pd.read_csv(\"2006_data.csv\", low_memory=False)\n",
    "df2007 = pd.read_csv(\"2007_data.csv\", low_memory=False)\n",
    "df2008 = pd.read_csv(\"2008_data.csv\", low_memory=False)\n",
    "df2009 = pd.read_csv(\"2009_data.csv\", low_memory=False)\n",
    "\n",
    "# append all DataFrames to one\n",
    "death05_09 = df2005.append([df2006, df2007, df2008, df2009])\n",
    "\n",
    "# keep only necessary columns\n",
    "death05_09 = death05_09[['resident_status','education_2003_revision',\n",
    "                          'month_of_death','sex','detail_age_type',\n",
    "                          'detail_age','age_recode_52','age_recode_27',\n",
    "                          'age_recode_12','infant_age_recode_22',\n",
    "                          'place_of_death_and_decedents_status',\n",
    "                          'marital_status','day_of_week_of_death',\n",
    "                          'current_data_year','injury_at_work','manner_of_death',\n",
    "                          'method_of_disposition','autopsy','activity_code',\n",
    "                          'icd_code_10th_revision','358_cause_recode','113_cause_recode',\n",
    "                          '130_infant_cause_recode','39_cause_recode','race_recode_3',\n",
    "                          'race_recode_5','hispanic_origin','hispanic_originrace_recode']]\n",
    "# take a sample\n",
    "death05_09sample = death05_09.sample(frac=0.05, replace=True, random_state=1)\n",
    "\n",
    "# save to CSV\n",
    "death05_09sample.to_csv(\"death05_09sample.csv\")"
   ]
  },
  {
   "cell_type": "code",
   "execution_count": null,
   "metadata": {},
   "outputs": [],
   "source": [
    "# Make sure to clear kernal before running this block\n",
    "import pandas as pd\n",
    "\n",
    "# read CSVs into DataFrame\n",
    "df2010 = pd.read_csv(\"2010_data.csv\", low_memory=False)\n",
    "df2011 = pd.read_csv(\"2011_data.csv\", low_memory=False)\n",
    "df2012 = pd.read_csv(\"2012_data.csv\", low_memory=False)\n",
    "df2013 = pd.read_csv(\"2013_data.csv\", low_memory=False)\n",
    "df2014 = pd.read_csv(\"2014_data.csv\", low_memory=False)\n",
    "df2015 = pd.read_csv(\"2015_data.csv\", low_memory=False)\n",
    "\n",
    "# append all DataFrames to one\n",
    "death10_15 = df2010.append([df2011, df2012, df2013, df2014, df2015])\n",
    "\n",
    "# keep only necessary columns\n",
    "death10_15 = death10_15[['resident_status','education_2003_revision',\n",
    "                          'month_of_death','sex','detail_age_type',\n",
    "                          'detail_age','age_recode_52','age_recode_27',\n",
    "                          'age_recode_12','infant_age_recode_22',\n",
    "                          'place_of_death_and_decedents_status',\n",
    "                          'marital_status','day_of_week_of_death',\n",
    "                          'current_data_year','injury_at_work','manner_of_death',\n",
    "                          'method_of_disposition','autopsy','activity_code',\n",
    "                          'icd_code_10th_revision','358_cause_recode','113_cause_recode',\n",
    "                          '130_infant_cause_recode','39_cause_recode','race_recode_3',\n",
    "                          'race_recode_5','hispanic_origin','hispanic_originrace_recode']]\n",
    "# take a sample\n",
    "death10_15sample = death05_09.sample(frac=0.05, replace=True, random_state=1)\n",
    "\n",
    "# save to CSV\n",
    "death10_15sample.to_csv(\"death10_15sample.csv\")"
   ]
  },
  {
   "cell_type": "code",
   "execution_count": null,
   "metadata": {},
   "outputs": [],
   "source": [
    "# Make sure to clear kernal before running this block\n",
    "import pandas as pd\n",
    "\n",
    "# read CSVs into DataFrame\n",
    "df10_15 = pd.read_csv(\"death10_15sample.csv\")\n",
    "df05_09 = pd.read_csv(\"death05_09sample.csv\")\n",
    "\n",
    "# append all DataFrames to one\n",
    "sample5death05_15 = df10_15.append(df05_09)\n",
    "\n",
    "# save to CSV\n",
    "sample5death05_15.to_csv(\"sample5death05_15.csv\")"
   ]
  }
 ],
 "metadata": {
  "kernelspec": {
   "display_name": "Python 3",
   "language": "python",
   "name": "python3"
  },
  "language_info": {
   "codemirror_mode": {
    "name": "ipython",
    "version": 3
   },
   "file_extension": ".py",
   "mimetype": "text/x-python",
   "name": "python",
   "nbconvert_exporter": "python",
   "pygments_lexer": "ipython3",
   "version": "3.7.1"
  }
 },
 "nbformat": 4,
 "nbformat_minor": 2
}
